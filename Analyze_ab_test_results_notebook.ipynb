{
 "cells": [
  {
   "cell_type": "markdown",
   "metadata": {},
   "source": [
    "## Analyze A/B Test Results\n",
    "\n",
    "This project will assure you have mastered the subjects covered in the statistics lessons.  The hope is to have this project be as comprehensive of these topics as possible.  Good luck!\n",
    "\n",
    "## Table of Contents\n",
    "- [Introduction](#intro)\n",
    "- [Part I - Probability](#probability)\n",
    "- [Part II - A/B Test](#ab_test)\n",
    "- [Part III - Regression](#regression)\n",
    "\n",
    "\n",
    "<a id='intro'></a>\n",
    "### Introduction\n",
    "\n",
    "A/B tests are very commonly performed by data analysts and data scientists.  It is important that you get some practice working with the difficulties of these \n",
    "\n",
    "For this project, you will be working to understand the results of an A/B test run by an e-commerce website.  Your goal is to work through this notebook to help the company understand if they should implement the new page, keep the old page, or perhaps run the experiment longer to make their decision.\n",
    "\n",
    "**As you work through this notebook, follow along in the classroom and answer the corresponding quiz questions associated with each question.** The labels for each classroom concept are provided for each question.  This will assure you are on the right track as you work through the project, and you can feel more confident in your final submission meeting the criteria.  As a final check, assure you meet all the criteria on the [RUBRIC](https://review.udacity.com/#!/projects/37e27304-ad47-4eb0-a1ab-8c12f60e43d0/rubric).\n",
    "\n",
    "<a id='probability'></a>\n",
    "#### Part I - Probability\n",
    "\n",
    "To get started, let's import our libraries."
   ]
  },
  {
   "cell_type": "code",
   "execution_count": 1,
   "metadata": {
    "collapsed": true,
    "scrolled": true
   },
   "outputs": [],
   "source": [
    "import pandas as pd\n",
    "import numpy as np\n",
    "import random\n",
    "import matplotlib.pyplot as plt\n",
    "import os\n",
    "%matplotlib inline\n",
    "#We are setting the seed to assure you get the same answers on quizzes as we set up\n",
    "np.random.seed(42)"
   ]
  },
  {
   "cell_type": "markdown",
   "metadata": {},
   "source": [
    "`1.` Now, read in the `ab_data.csv` data. Store it in `df`.  **Use your dataframe to answer the questions in Quiz 1 of the classroom.**\n",
    "\n",
    "a. Read in the dataset and take a look at the top few rows here:"
   ]
  },
  {
   "cell_type": "code",
   "execution_count": 2,
   "metadata": {
    "scrolled": true
   },
   "outputs": [
    {
     "name": "stdout",
     "output_type": "stream",
     "text": [
      "df.head()\n",
      "   user_id                   timestamp      group landing_page  converted\n",
      "0   851104  2017-01-21 22:11:48.556739    control     old_page          0\n",
      "1   804228  2017-01-12 08:01:45.159739    control     old_page          0\n",
      "2   661590  2017-01-11 16:55:06.154213  treatment     new_page          0\n",
      "3   853541  2017-01-08 18:28:03.143765  treatment     new_page          0\n",
      "4   864975  2017-01-21 01:52:26.210827    control     old_page          1\n",
      "\n"
     ]
    }
   ],
   "source": [
    "DATADIR = '/Users/menfi/Documents/nanoDegree12September2017/analyze_A_B_test_results/AnalyzeABTestResults'  \n",
    "DATAFILE = 'ab_data.csv'\n",
    "# DATAFILE = 'ab_data_short.csv'\n",
    "ab_data_csv = os.path.join(DATADIR, DATAFILE)\n",
    "\n",
    "df = pd.read_csv(ab_data_csv) # DataFrame\n",
    "# verify requirement compliance \n",
    "# print(\"type(df) = {}\".format(type(df))) # DataFrame\n",
    "\n",
    "print(\"df.head()\")\n",
    "print(df.head())\n",
    "print()\n"
   ]
  },
  {
   "cell_type": "markdown",
   "metadata": {},
   "source": [
    "b. Use the below cell to find the number of rows in the dataset."
   ]
  },
  {
   "cell_type": "code",
   "execution_count": 3,
   "metadata": {
    "scrolled": true
   },
   "outputs": [
    {
     "name": "stdout",
     "output_type": "stream",
     "text": [
      "df_row_count - 294478\n"
     ]
    }
   ],
   "source": [
    "df_row_count = df.shape[0]\n",
    "print(\"df_row_count - {}\".format(df_row_count))\n",
    "# os level row count verification\n",
    "# +1 header row  user_id,timestamp,group,landing_page,converted\n",
    "\n",
    "# $ wc -l ab_data.csv \n",
    "# 294479 ab_data.csv - checks out!\n",
    "# Udacity Instructor - Practical Stats Project Walkthrough Final - 294478 - again checks out\n"
   ]
  },
  {
   "cell_type": "markdown",
   "metadata": {},
   "source": [
    "c. The number of unique users in the dataset."
   ]
  },
  {
   "cell_type": "code",
   "execution_count": 4,
   "metadata": {
    "scrolled": true
   },
   "outputs": [
    {
     "name": "stdout",
     "output_type": "stream",
     "text": [
      "number_unique_users_in_dataset - 290584\n"
     ]
    }
   ],
   "source": [
    "number_unique_users_in_dataset = df.user_id.nunique()\n",
    "print(\"number_unique_users_in_dataset - {}\".format(number_unique_users_in_dataset))\n",
    "# Udacity Instructor - Practical Stats Project Walkthrough Final - 290584 - checks out\n"
   ]
  },
  {
   "cell_type": "markdown",
   "metadata": {
    "collapsed": true
   },
   "source": [
    "d. The proportion of users converted."
   ]
  },
  {
   "cell_type": "code",
   "execution_count": 5,
   "metadata": {
    "scrolled": true
   },
   "outputs": [
    {
     "name": "stdout",
     "output_type": "stream",
     "text": [
      "df_unique_conversions_row_count - 35173\n",
      "number_unique_users_in_dataset - 290584\n",
      "proportion_of_users_converted_mike - 0.12104245244060237\n",
      "proportion_of_users_converted - 0.11965919355605512\n",
      "\n"
     ]
    }
   ],
   "source": [
    "# Mike way \n",
    "df_unique_conversions_row_count = df.query(\"converted == 1 \").user_id.nunique()\n",
    "print(\"df_unique_conversions_row_count - {}\".format(df_unique_conversions_row_count))\n",
    "print(\"number_unique_users_in_dataset - {}\".format(number_unique_users_in_dataset))\n",
    "proportion_of_users_converted_mike = df_unique_conversions_row_count / number_unique_users_in_dataset\n",
    "print(\"proportion_of_users_converted_mike - {}\".format(proportion_of_users_converted_mike))\n",
    "#\n",
    "# Udacity Instructor - Practical Stats Project Walkthrough Final - 0.11965919355605512 - checks out\n",
    "# df.converted.mean()\n",
    "proportion_of_users_converted = df.converted.mean()\n",
    "print(\"proportion_of_users_converted - {}\\n\".format(proportion_of_users_converted))\n"
   ]
  },
  {
   "cell_type": "markdown",
   "metadata": {
    "collapsed": true
   },
   "source": [
    "e. The number of times the `new_page` and `treatment` don't line up."
   ]
  },
  {
   "cell_type": "code",
   "execution_count": 6,
   "metadata": {
    "scrolled": true
   },
   "outputs": [
    {
     "name": "stdout",
     "output_type": "stream",
     "text": [
      "wrong_landing_page_count - 1965\n",
      "wrong_group_count - 1928\n",
      "number_of_times_new_page_treatment_do_not_line_up  - 3893\n"
     ]
    }
   ],
   "source": [
    "group_treatment = df.query(\"group == 'treatment'\") \n",
    "wrong_landing_page_count = group_treatment.query(\"landing_page != 'new_page'\").shape[0]\n",
    "print(\"wrong_landing_page_count - {}\".format(wrong_landing_page_count)) \n",
    "\n",
    "landing_page_new_page = df.query(\"landing_page == 'new_page'\")\n",
    "wrong_group_count = landing_page_new_page.query(\"group != 'treatment'\").shape[0]\n",
    "print(\"wrong_group_count - {}\".format(wrong_group_count)) \n",
    "\n",
    "number_of_times_new_page_treatment_do_not_line_up = wrong_landing_page_count + wrong_group_count\n",
    "print(\"number_of_times_new_page_treatment_do_not_line_up  - {}\".format(number_of_times_new_page_treatment_do_not_line_up ))\n",
    "# Udacity Instructor - Practical Stats Project Walkthrough Final - 3893 - checks out\n"
   ]
  },
  {
   "cell_type": "markdown",
   "metadata": {},
   "source": [
    "f. Do any of the rows have missing values?"
   ]
  },
  {
   "cell_type": "code",
   "execution_count": 7,
   "metadata": {
    "scrolled": true
   },
   "outputs": [
    {
     "name": "stdout",
     "output_type": "stream",
     "text": [
      "null_check - Empty DataFrame\n",
      "Columns: [user_id, timestamp, group, landing_page, converted]\n",
      "Index: []\n",
      "\n",
      "null_check1 - False\n",
      "\n"
     ]
    }
   ],
   "source": [
    "# missing values no - look 2 different ways \n",
    "null_check = df[df.isnull().any(axis=1)]\n",
    "print(\"null_check - {}\\n\".format(null_check))\n",
    "\n",
    "null_check1 = df.isnull().values.any()\n",
    "print(\"null_check1 - {}\\n\".format(null_check1))\n",
    "# Udacity Instructor - Practical Stats Project Walkthrough Final - same answer\n",
    " "
   ]
  },
  {
   "cell_type": "markdown",
   "metadata": {},
   "source": [
    "`2.` For the rows where **treatment** is not aligned with **new_page** or **control** is not aligned with **old_page**, we cannot be sure if this row truly received the new or old page.  Use **Quiz 2** in the classroom to provide how we should handle these rows.  \n",
    "\n",
    "a. Now use the answer to the quiz to create a new dataset that meets the specifications from the quiz.  Store your new dataframe in **df2**."
   ]
  },
  {
   "cell_type": "code",
   "execution_count": 8,
   "metadata": {
    "scrolled": true
   },
   "outputs": [
    {
     "name": "stdout",
     "output_type": "stream",
     "text": [
      "df_row_count - 294478\n",
      "df2_row_count - 290585\n"
     ]
    }
   ],
   "source": [
    "# Data Analyst Nanodegree\n",
    "# 4. Practical Statistics - Project: Analyze A/B Test Results - 3. Quiz: Quiz2: Messy Data\n",
    "# Corrrect answer - Remove these rows.\n",
    "\n",
    "df_row_count = df.shape[0]\n",
    "print(\"df_row_count - {}\".format(df_row_count))\n",
    "\n",
    "df2 = df.query(\"(group == 'control' and landing_page == 'old_page') or (group == 'treatment' and landing_page == 'new_page')\") \n",
    "df2_row_count = df2.shape[0]\n",
    "print(\"df2_row_count - {}\".format(df2_row_count))\n",
    "    "
   ]
  },
  {
   "cell_type": "code",
   "execution_count": 9,
   "metadata": {
    "scrolled": true
   },
   "outputs": [
    {
     "data": {
      "text/plain": [
       "0"
      ]
     },
     "execution_count": 9,
     "metadata": {},
     "output_type": "execute_result"
    }
   ],
   "source": [
    "# Double Check all of the correct rows were removed - this should be 0\n",
    "df2[((df2['group'] == 'treatment') == (df2['landing_page'] == 'new_page')) == False].shape[0]"
   ]
  },
  {
   "cell_type": "markdown",
   "metadata": {},
   "source": [
    "`3.` Use **df2** and the cells below to answer questions for **Quiz3** in the classroom."
   ]
  },
  {
   "cell_type": "markdown",
   "metadata": {},
   "source": [
    "a. How many unique **user_id**s are in **df2**?"
   ]
  },
  {
   "cell_type": "code",
   "execution_count": 10,
   "metadata": {
    "scrolled": true
   },
   "outputs": [
    {
     "name": "stdout",
     "output_type": "stream",
     "text": [
      "df2_unique_user_id_count - 290584\n"
     ]
    }
   ],
   "source": [
    "df2_unique_user_id_count = df2.user_id.nunique()\n",
    "print(\"df2_unique_user_id_count - {}\".format(df2_unique_user_id_count))\n"
   ]
  },
  {
   "cell_type": "markdown",
   "metadata": {
    "collapsed": true
   },
   "source": [
    "b. There is one **user_id** repeated in **df2**.  What is it?"
   ]
  },
  {
   "cell_type": "code",
   "execution_count": 11,
   "metadata": {
    "scrolled": true
   },
   "outputs": [
    {
     "name": "stdout",
     "output_type": "stream",
     "text": [
      "df2_duplicate_rows -       user_id                   timestamp      group landing_page  converted\n",
      "1899   773192  2017-01-09 05:37:58.781806  treatment     new_page          0\n",
      "2893   773192  2017-01-14 02:55:59.590927  treatment     new_page          0\n"
     ]
    }
   ],
   "source": [
    "# df2.duplicated(subset=None, keep='first')[source]\n",
    "# df2.duplicated(subset = 'user_id', keep='first')\n",
    "df2.duplicated(subset = 'user_id', keep=False)\n",
    "\n",
    "df2_duplicate_rows = df2[df2.duplicated(subset = 'user_id', keep=False)]\n",
    "print(\"df2_duplicate_rows - {}\".format(df2_duplicate_rows))\n",
    "\n",
    "# df2_duplicate_rows -       user_id                   timestamp      group landing_page  converted\n",
    "# 1899   773192  2017-01-09 05:37:58.781806  treatment     new_page          0\n",
    "# 2893   773192  2017-01-14 02:55:59.590927  treatment     new_page          0\n"
   ]
  },
  {
   "cell_type": "markdown",
   "metadata": {},
   "source": [
    "c. What is the row information for the repeat **user_id**? "
   ]
  },
  {
   "cell_type": "code",
   "execution_count": 12,
   "metadata": {
    "scrolled": true
   },
   "outputs": [
    {
     "name": "stdout",
     "output_type": "stream",
     "text": [
      "df2_duplicate_rows -       user_id                   timestamp      group landing_page  converted\n",
      "1899   773192  2017-01-09 05:37:58.781806  treatment     new_page          0\n",
      "2893   773192  2017-01-14 02:55:59.590927  treatment     new_page          0\n",
      "\n",
      "duplicate_id_dataframe -       user_id                   timestamp      group landing_page  converted\n",
      "1899   773192  2017-01-09 05:37:58.781806  treatment     new_page          0\n",
      "2893   773192  2017-01-14 02:55:59.590927  treatment     new_page          0\n"
     ]
    }
   ],
   "source": [
    "# two ways \n",
    "print(\"df2_duplicate_rows - {}\\n\".format(df2_duplicate_rows))\n",
    "\n",
    "duplicate_id_dataframe = df2.query('user_id == 773192') \n",
    "print(\"duplicate_id_dataframe - {}\".format(duplicate_id_dataframe))\n"
   ]
  },
  {
   "cell_type": "markdown",
   "metadata": {},
   "source": [
    "d. Remove **one** of the rows with a duplicate **user_id**, but keep your dataframe as **df2**."
   ]
  },
  {
   "cell_type": "code",
   "execution_count": 13,
   "metadata": {
    "scrolled": true
   },
   "outputs": [
    {
     "name": "stdout",
     "output_type": "stream",
     "text": [
      "df2_row_count - 290584\n",
      "\n",
      "row_check_773192 -       user_id                   timestamp      group landing_page  converted\n",
      "2893   773192  2017-01-14 02:55:59.590927  treatment     new_page          0\n"
     ]
    }
   ],
   "source": [
    "# keep one of the duplicate rows\n",
    "df2 = df2.drop_duplicates(['user_id'], keep='last')\n",
    "\n",
    "# row count drop by one 290585 - 290584 (unique user_id count) \n",
    "df2_row_count = df2.shape[0]\n",
    "print(\"df2_row_count - {}\\n\".format(df2_row_count))\n",
    "\n",
    "# should only be one row now\n",
    "row_check_773192 = df2.query('user_id == 773192') \n",
    "print(\"row_check_773192 - {}\".format(row_check_773192))\n"
   ]
  },
  {
   "cell_type": "markdown",
   "metadata": {},
   "source": [
    "`4.` Use **df2** in the below cells to answer the quiz questions related to **Quiz 4** in the classroom.\n",
    "\n",
    "a. What is the probability of an individual converting regardless of the page they receive?"
   ]
  },
  {
   "cell_type": "code",
   "execution_count": 14,
   "metadata": {
    "scrolled": true
   },
   "outputs": [
    {
     "name": "stdout",
     "output_type": "stream",
     "text": [
      "df2_row_count - 290584\n",
      "df2_did_convert_row_count - 34753\n",
      "probability_of_an_individual_converting - 0.11959708724499628\n"
     ]
    }
   ],
   "source": [
    "# make sure df2 row count is as expected \n",
    "df2_row_count = df2.shape[0]\n",
    "print(\"df2_row_count - {}\".format(df2_row_count))\n",
    "\n",
    "df2_did_convert_row_count = df2.query('converted == 1').shape[0] \n",
    "print(\"df2_did_convert_row_count - {}\".format(df2_did_convert_row_count))\n",
    " \n",
    "probability_of_an_individual_converting = df2_did_convert_row_count / df2_row_count\n",
    "print(\"probability_of_an_individual_converting - {}\".format(probability_of_an_individual_converting))\n"
   ]
  },
  {
   "cell_type": "markdown",
   "metadata": {},
   "source": [
    "b. Given that an individual was in the `control` group, what is the probability they converted?"
   ]
  },
  {
   "cell_type": "code",
   "execution_count": 15,
   "metadata": {
    "scrolled": true
   },
   "outputs": [
    {
     "name": "stdout",
     "output_type": "stream",
     "text": [
      "control_group_row_count - 145274\n",
      "control_group_converted_row_count - 17489\n",
      "control_group_probability_converted - 0.1203863045004612\n"
     ]
    }
   ],
   "source": [
    "control_group_row_count = df2.query(\"group == 'control'\").shape[0] \n",
    "print(\"control_group_row_count - {}\".format(control_group_row_count))\n",
    "\n",
    "control_group_converted_row_count = df2.query(\"group == 'control' and converted == 1\").shape[0] \n",
    "print(\"control_group_converted_row_count - {}\".format(control_group_converted_row_count))\n",
    "\n",
    "control_group_probability_converted = control_group_converted_row_count / control_group_row_count\n",
    "print(\"control_group_probability_converted - {}\".format(control_group_probability_converted))\n"
   ]
  },
  {
   "cell_type": "markdown",
   "metadata": {},
   "source": [
    "c. Given that an individual was in the `treatment` group, what is the probability they converted?"
   ]
  },
  {
   "cell_type": "code",
   "execution_count": 16,
   "metadata": {
    "scrolled": true
   },
   "outputs": [
    {
     "name": "stdout",
     "output_type": "stream",
     "text": [
      "treatment_group_row_count - 145310\n",
      "treatment_group_conversion_row_count - 17264\n",
      "treatment_group_conversion_probability - 0.11880806551510564\n"
     ]
    }
   ],
   "source": [
    "treatment_group_row_count = df2.query(\"group == 'treatment'\").shape[0] \n",
    "print(\"treatment_group_row_count - {}\".format(treatment_group_row_count))\n",
    "\n",
    "treatment_group_conversion_row_count = df2.query(\"group == 'treatment' and converted == 1\").shape[0] \n",
    "print(\"treatment_group_conversion_row_count - {}\".format(treatment_group_conversion_row_count))\n",
    "\n",
    "treatment_group_conversion_probability = treatment_group_conversion_row_count / treatment_group_row_count\n",
    "print(\"treatment_group_conversion_probability - {}\".format(treatment_group_conversion_probability))\n"
   ]
  },
  {
   "cell_type": "markdown",
   "metadata": {},
   "source": [
    "d. What is the probability that an individual received the new page?"
   ]
  },
  {
   "cell_type": "code",
   "execution_count": 17,
   "metadata": {
    "scrolled": true
   },
   "outputs": [
    {
     "name": "stdout",
     "output_type": "stream",
     "text": [
      "received_new_page_row_count - 145310\n",
      "probability_received_new_page - 0.5000619442226688\n",
      "\n",
      "received_old_page_row_count - 145274\n",
      "probability_received_old_page - 0.4999380557773312\n",
      "\n",
      "received_either_page_count - 290584\n",
      "df2_row_count - 290584\n"
     ]
    }
   ],
   "source": [
    "received_new_page_row_count = df2.query(\"landing_page == 'new_page'\").shape[0] \n",
    "print(\"received_new_page_row_count - {}\".format(received_new_page_row_count))\n",
    "probability_received_new_page = received_new_page_row_count / df2_row_count\n",
    "print(\"probability_received_new_page - {}\\n\".format(probability_received_new_page))\n",
    "\n",
    "received_old_page_row_count = df2.query(\"landing_page == 'old_page'\").shape[0] \n",
    "print(\"received_old_page_row_count - {}\".format(received_old_page_row_count))\n",
    "probability_received_old_page = received_old_page_row_count / df2_row_count\n",
    "print(\"probability_received_old_page - {}\\n\".format(probability_received_old_page))\n",
    "\n",
    "# reasonableness check\n",
    "received_either_page_count = received_new_page_row_count + received_old_page_row_count\n",
    "print(\"received_either_page_count - {}\".format(received_either_page_count))\n",
    "print(\"df2_row_count - {}\".format(df2_row_count))\n",
    " "
   ]
  },
  {
   "cell_type": "markdown",
   "metadata": {},
   "source": [
    "e. Use the results in the previous two portions of this question to suggest if you think there is evidence that one page leads to more conversions?  Write your response below."
   ]
  },
  {
   "cell_type": "markdown",
   "metadata": {},
   "source": [
    "**Your answer goes here.**  \n",
    "What we know - \n",
    "\n",
    "Given - An individual DID received the treatment, the probability of converting. - 0.1188 - (probabilty LOW)\n",
    "\n",
    "The probability of receiving the new page. - 0.5001 - (close to 50 / 50)\n",
    "\n",
    "received_new_page_count - 145310  \n",
    "probability_received_new_page - 0.5000619442226688 - (close to 50 / 50)\n",
    "\n",
    "received_old_page_count - 145274  \n",
    "probability_received_old_page - 0.4999380557773312 - (close to 50 / 50)\n",
    "\n",
    "Based on what we know I do not think there is significant evidence that one page leads to more conversions.\n"
   ]
  },
  {
   "cell_type": "markdown",
   "metadata": {},
   "source": [
    "<a id='ab_test'></a>\n",
    "### Part II - A/B Test\n",
    "\n",
    "Notice that because of the time stamp associated with each event, you could technically run a hypothesis test continuously as each observation was observed.  \n",
    "\n",
    "However, then the hard question is do you stop as soon as one page is considered significantly better than another or does it need to happen consistently for a certain amount of time?  How long do you run to render a decision that neither page is better than another?  \n",
    "\n",
    "These questions are the difficult parts associated with A/B tests in general.  \n",
    "\n",
    "\n",
    "`1.` For now, consider you need to make the decision just based on all the data provided.  If you want to assume that the old page is better unless the new page proves to be definitely better at a Type I error rate of 5%, what should your null and alternative hypotheses be?  You can state your hypothesis in terms of words or in terms of **$p_{old}$** and **$p_{new}$**, which are the converted rates for the old and new pages.  "
   ]
  },
  {
   "cell_type": "markdown",
   "metadata": {},
   "source": [
    "**Put your answer here.**  \n",
    "H0 pnew ≤ pold - null hypothesis  \n",
    "H1 pnew > pold - alternative hypothesis\n",
    "$$H_0: p_{new} \\leq p_{old}$$\n",
    "$$H_1: p_{new} > p_{old}$$"
   ]
  },
  {
   "cell_type": "markdown",
   "metadata": {},
   "source": [
    "`2.` Assume under the null hypothesis, $p_{new}$ and $p_{old}$ both have \"true\" success rates equal to the **converted** success rate regardless of page - that is $p_{new}$ and $p_{old}$ are equal. Furthermore, assume they are equal to the **converted** rate in **ab_data.csv** regardless of the page. <br><br>\n",
    "\n",
    "Use a sample size for each page equal to the ones in **ab_data.csv**.  <br><br>\n",
    "\n",
    "Perform the sampling distribution for the difference in **converted** between the two pages over 10,000 iterations of calculating an estimate from the null.  <br><br>\n",
    "\n",
    "Use the cells below to provide the necessary parts of this simulation.  If this doesn't make complete sense right now, don't worry - you are going to work through the problems below to complete this problem.  You can use **Quiz 5** in the classroom to make sure you are on the right track.<br><br>"
   ]
  },
  {
   "cell_type": "code",
   "execution_count": 18,
   "metadata": {},
   "outputs": [
    {
     "name": "stdout",
     "output_type": "stream",
     "text": [
      "df2_row_count - 290584\n",
      "\n",
      "control_count  - 145274\n",
      "\n",
      "control_new_page_count - 0\n",
      "\n",
      "control_old_page_count - 145274\n",
      "control_old_page_converted_count - 17489\n",
      "proportion_control_old_page_converted - 0.1203863045004612\n",
      "control_old_page_not_converted_count - 127785\n",
      "proportion_control_old_page_not_converted - 0.8796136954995388\n",
      "control_old_page_converted_sum - 145274\n",
      "\n",
      "treatment_count  - 145310\n",
      "\n",
      "dataframe_row_count_sum - 290584\n",
      "\n",
      "treatment_new_page_count - 145310\n",
      "control_treatment_page_sum - 290584\n",
      "\n",
      "treatment_old_page_count - 0\n",
      "treatment_new_page_converted_count - 17264\n",
      "proportion_treatment_new_page_converted - 0.11880806551510564\n",
      "treatment_new_page_not_converted_count - 128046\n",
      "proportion_treatment_new_page_not_converted - 0.8811919344848944\n",
      "treatment_new_page_converted_sum - 145310\n",
      "\n"
     ]
    },
    {
     "data": {
      "text/plain": [
       "290584"
      ]
     },
     "execution_count": 18,
     "metadata": {},
     "output_type": "execute_result"
    }
   ],
   "source": [
    "# academic data analysis of dataset - ab_data.csv\n",
    "# %load_ext autoreload\n",
    "# %reload_ext autoreload\n",
    "\n",
    "# data analysis \n",
    "# df2_row_count - 290584\n",
    "print(\"df2_row_count - {}\\n\".format(df2_row_count))\n",
    "\n",
    "# control\n",
    "control = df2.query(\"group == 'control'\") \n",
    "# print(\"control  - {}\\n\".format(control))\n",
    "\n",
    "# control_count  - 145274\n",
    "control_count = df2.query(\"group == 'control'\").shape[0] \n",
    "print(\"control_count  - {}\\n\".format(control_count))\n",
    "\n",
    "# control_new_page_count - 0 - NO group-control landing_page - new_page\n",
    "control_new_page_count = control.query(\"landing_page == 'new_page'\").shape[0]\n",
    "print(\"control_new_page_count - {}\\n\".format(control_new_page_count))\n",
    "\n",
    "# control_old_page_count - 145274 - all group control - landing_page IS old_page\n",
    "control_old_page_count = control.query(\"landing_page == 'old_page'\").shape[0]\n",
    "print(\"control_old_page_count - {}\".format(control_old_page_count))\n",
    "assert control_count == control_old_page_count, \"check control_count, control_old_page_count\"\n",
    "\n",
    "control_old_page_converted_count = df2.query(\"group == 'control' and landing_page == 'old_page' and converted == 1\").shape[0] \n",
    "print(\"control_old_page_converted_count - {}\".format(control_old_page_converted_count))\n",
    "proportion_control_old_page_converted = control_old_page_converted_count / control_old_page_count\n",
    "print(\"proportion_control_old_page_converted - {}\".format(proportion_control_old_page_converted))\n",
    "\n",
    "control_old_page_not_converted_count = df2.query(\"group == 'control' and landing_page == 'old_page' and converted == 0\").shape[0] \n",
    "print(\"control_old_page_not_converted_count - {}\".format(control_old_page_not_converted_count))\n",
    "assert control_old_page_count == control_old_page_converted_count + control_old_page_not_converted_count, \"check control_old_page_count, control_old_page_converted_count + control_old_page_not_converted_count\"  \n",
    "proportion_control_old_page_not_converted = control_old_page_not_converted_count / control_old_page_count\n",
    "print(\"proportion_control_old_page_not_converted - {}\".format(proportion_control_old_page_not_converted))\n",
    "\n",
    "control_old_page_converted_sum = control_old_page_converted_count + control_old_page_not_converted_count \n",
    "print(\"control_old_page_converted_sum - {}\\n\".format(control_old_page_converted_sum))\n",
    "assert control_old_page_converted_sum == control_count, \"check control_old_page_converted_sum\"\n",
    "\n",
    "# 145310\n",
    "treatment_count = df2.query(\"group == 'treatment'\").shape[0] \n",
    "print(\"treatment_count  - {}\\n\".format(treatment_count))\n",
    "\n",
    "dataframe_row_count_sum = control_count + treatment_count\n",
    "print(\"dataframe_row_count_sum - {}\\n\".format(dataframe_row_count_sum))\n",
    "assert dataframe_row_count_sum == df2_row_count, \"check dataframe_row_count_sum\"\n",
    "\n",
    "treatment_new_page_count = df2.query(\"group == 'treatment' and landing_page == 'new_page'\").shape[0]\n",
    "print(\"treatment_new_page_count - {}\".format(treatment_new_page_count))\n",
    "\n",
    "control_treatment_page_sum = control_old_page_count + treatment_new_page_count\n",
    "print(\"control_treatment_page_sum - {}\\n\".format(control_treatment_page_sum))\n",
    "assert control_treatment_page_sum == df2_row_count, \"check control_treatment_page_sum\"\n",
    "\n",
    "#zero\n",
    "treatment_old_page_count = df2.query(\"group == 'treatment' and landing_page == 'old_page'\").shape[0]\n",
    "print(\"treatment_old_page_count - {}\".format(treatment_old_page_count))\n",
    "\n",
    "treatment_new_page_converted_count = df2.query(\"group == 'treatment' and landing_page == 'new_page' and converted == 1\").shape[0] \n",
    "print(\"treatment_new_page_converted_count - {}\".format(treatment_new_page_converted_count))\n",
    "proportion_treatment_new_page_converted = treatment_new_page_converted_count / treatment_count\n",
    "print(\"proportion_treatment_new_page_converted - {}\".format(proportion_treatment_new_page_converted))\n",
    "\n",
    "treatment_new_page_not_converted_count = df2.query(\"group == 'treatment' and landing_page == 'new_page' and converted == 0\").shape[0] \n",
    "print(\"treatment_new_page_not_converted_count - {}\".format(treatment_new_page_not_converted_count))\n",
    "proportion_treatment_new_page_not_converted = treatment_new_page_not_converted_count / treatment_count\n",
    "print(\"proportion_treatment_new_page_not_converted - {}\".format(proportion_treatment_new_page_not_converted))\n",
    "\n",
    "treatment_new_page_converted_sum = treatment_new_page_not_converted_count + treatment_new_page_converted_count\n",
    "print(\"treatment_new_page_converted_sum - {}\\n\".format(treatment_new_page_converted_sum))\n",
    "assert treatment_new_page_converted_sum == treatment_count, \"check treatment_new_page_converted_sum, treatment_count\"\n",
    "\n",
    "# double check - we indeed have the right rows\n",
    "df2.query(\"(group == 'treatment' and landing_page == 'new_page') or (group == 'control' and landing_page == 'old_page')\").shape[0]\n"
   ]
  },
  {
   "cell_type": "markdown",
   "metadata": {},
   "source": [
    "a. What is the **convert rate** for $p_{new}$ under the null? "
   ]
  },
  {
   "cell_type": "code",
   "execution_count": 19,
   "metadata": {},
   "outputs": [
    {
     "name": "stdout",
     "output_type": "stream",
     "text": [
      "p_new - 0.11959708724499628 - 0.11959708724499628\n"
     ]
    }
   ],
   "source": [
    "# assume they are equal to the converted rate in ab_data.csv regardless of the page. \n",
    "# divide df2 converted rows, converted column = 1, by total df2 rows\n",
    "# correct answer - reference Project A/B Test Results Quiz 5 Hypothesis Testing \n",
    "p_new = df2.query(\"converted == 1\").shape[0] / df2.shape[0] \n",
    "# 0.11959708724499628\n",
    "print(\"p_new - 0.11959708724499628 - {}\".format(p_new))\n"
   ]
  },
  {
   "cell_type": "markdown",
   "metadata": {},
   "source": [
    "b. What is the **convert rate** for $p_{old}$ under the null? <br><br>"
   ]
  },
  {
   "cell_type": "code",
   "execution_count": 20,
   "metadata": {
    "scrolled": true
   },
   "outputs": [
    {
     "name": "stdout",
     "output_type": "stream",
     "text": [
      "p_old - 0.11959708724499628 - 0.11959708724499628\n"
     ]
    }
   ],
   "source": [
    "# assume they are equal to the converted rate in ab_data.csv regardless of the page. \n",
    "# divide df2 converted rows, converted column = 1, by total df2 rows\n",
    "# correct answer - reference Project A/B Test Results Quiz 5 Hypothesis Testing \n",
    "# 0.11959708724499628\n",
    "p_old = df2.query(\"converted == 1\").shape[0] / df2.shape[0] \n",
    "print(\"p_old - 0.11959708724499628 - {}\".format(p_old))\n"
   ]
  },
  {
   "cell_type": "markdown",
   "metadata": {},
   "source": [
    "c. What is $n_{new}$?"
   ]
  },
  {
   "cell_type": "code",
   "execution_count": 21,
   "metadata": {
    "scrolled": true
   },
   "outputs": [
    {
     "name": "stdout",
     "output_type": "stream",
     "text": [
      "n_new - 145310 - 145310\n",
      "\n"
     ]
    }
   ],
   "source": [
    "# n_new - 145310 - reference graded Udacity Quiz\n",
    "# Data Analyst Nanodegree - 4. Practical Statistics - Project: Analyze A/B Test Results \n",
    "# Quiz 5: Hypothesis Testing - n_new\n",
    "n_new = df2.query(\"group == 'treatment'  and  landing_page == 'new_page' \").shape[0]\n",
    "print(\"n_new - 145310 - {}\\n\".format(n_new))\n"
   ]
  },
  {
   "cell_type": "markdown",
   "metadata": {},
   "source": [
    "d. What is $n_{old}$?"
   ]
  },
  {
   "cell_type": "code",
   "execution_count": 22,
   "metadata": {
    "scrolled": false
   },
   "outputs": [
    {
     "name": "stdout",
     "output_type": "stream",
     "text": [
      "n_old - 145274 - 145274\n"
     ]
    }
   ],
   "source": [
    "# n_old - 145274 - reference graded Udacity Quiz\n",
    "# Data Analyst Nanodegree - 4. Practical Statistics - Project: Analyze A/B Test Results \n",
    "# Quiz 5: Hypothesis Testing - n_nold\n",
    "n_old = df2.query(\"group == 'control'  and  landing_page == 'old_page' \").shape[0]\n",
    "print(\"n_old - 145274 - {}\".format(n_old))\n"
   ]
  },
  {
   "cell_type": "markdown",
   "metadata": {},
   "source": [
    "e. Simulate $n_{new}$ transactions with a convert rate of $p_{new}$ under the null.  Store these $n_{new}$ 1's and 0's in **new_page_converted**."
   ]
  },
  {
   "cell_type": "code",
   "execution_count": 23,
   "metadata": {
    "scrolled": true
   },
   "outputs": [
    {
     "name": "stdout",
     "output_type": "stream",
     "text": [
      "n_new - 145310 - 145310\n",
      "p_new - 0.11959708724499628 - 0.11959708724499628\n",
      "new_page_converted - 17257 - 17257\n"
     ]
    }
   ],
   "source": [
    "np.random.seed(42)\n",
    "# make sure we have the right values\n",
    "print(\"n_new - 145310 - {}\".format(n_new))\n",
    "print(\"p_new - 0.11959708724499628 - {}\".format(p_new))\n",
    "# hard code an example for comparison - get an idea \n",
    "# new_page_converted_example = n_new * p_new\n",
    "# print(\"new_page_converted_example - {}\".format(new_page_converted_example))\n",
    "#        new_page_converted_example - 17378.65274757041\n",
    "\n",
    "# press on with simulation\n",
    "new_page_converted = np.random.binomial(n_new, p_new) \n",
    "print(\"new_page_converted - 17257 - {}\".format(new_page_converted)) \n"
   ]
  },
  {
   "cell_type": "markdown",
   "metadata": {},
   "source": [
    "f. Simulate $n_{old}$ transactions with a convert rate of $p_{old}$ under the null.  Store these $n_{old}$ 1's and 0's in **old_page_converted**."
   ]
  },
  {
   "cell_type": "code",
   "execution_count": 24,
   "metadata": {
    "scrolled": true
   },
   "outputs": [
    {
     "name": "stdout",
     "output_type": "stream",
     "text": [
      "n_old - 145274 - 145274\n",
      "p_old - 0.11959708724499628 - 0.11959708724499628\n",
      "old_page_converted - 17253 - 17253\n"
     ]
    }
   ],
   "source": [
    "np.random.seed(42)\n",
    "# make sure we have the right values \n",
    "print(\"n_old - 145274 - {}\".format(n_old))\n",
    "print(\"p_old - 0.11959708724499628 - {}\".format(p_old))\n",
    "# hard code 1, get an idea \n",
    "# print(n_old * p_old)\n",
    "# 17374.34725242959\n",
    "\n",
    "# press on with simulation\n",
    "old_page_converted = np.random.binomial(n_old, p_old) \n",
    "print(\"old_page_converted - 17253 - {}\".format(old_page_converted))\n"
   ]
  },
  {
   "cell_type": "markdown",
   "metadata": {},
   "source": [
    "g. Find $p_{new}$ - $p_{old}$ for your simulated values from part (e) and (f)."
   ]
  },
  {
   "cell_type": "code",
   "execution_count": 25,
   "metadata": {
    "scrolled": true
   },
   "outputs": [
    {
     "name": "stdout",
     "output_type": "stream",
     "text": [
      "new_page_converted - 17257 - 17257\n",
      "n_new - 145310 - 145310\n",
      "old_page_converted - 17253 - 17253\n",
      "n_old - 145274 - 145274\n",
      "\n",
      "p_new_minus_p_old - -1.8954261268994133e-06\n"
     ]
    }
   ],
   "source": [
    "print(\"new_page_converted - 17257 - {}\".format(new_page_converted)) \n",
    "print(\"n_new - 145310 - {}\".format(n_new))\n",
    "print(\"old_page_converted - 17253 - {}\".format(old_page_converted))\n",
    "print(\"n_old - 145274 - {}\\n\".format(n_old))\n",
    "\n",
    "p_new_minus_p_old = (new_page_converted / n_new) -  (old_page_converted / n_old)\n",
    "print(\"p_new_minus_p_old - {}\".format(p_new_minus_p_old))\n"
   ]
  },
  {
   "cell_type": "markdown",
   "metadata": {},
   "source": [
    "h. Simulate 10,000 $p_{new}$ - $p_{old}$ values using this same process similarly to the one you calculated in parts **a. through g.** above.  Store all 10,000 values in **p_diffs**."
   ]
  },
  {
   "cell_type": "code",
   "execution_count": 26,
   "metadata": {
    "scrolled": true
   },
   "outputs": [
    {
     "name": "stdout",
     "output_type": "stream",
     "text": [
      "len(p_diffs) - 10000\n"
     ]
    }
   ],
   "source": [
    "np.random.seed(42)\n",
    "\n",
    "# print(\"n_new - 145310 - {}\".format(n_new))\n",
    "# print(\"p_new 0.11959708724499628 - {}\\n\".format(p_new))\n",
    "# print(\"n_old - 145274 - {}\".format(n_old))\n",
    "# print(\"p_old - 0.11959708724499628 - {}\".format(p_old)) \n",
    "p_diffs = [] \n",
    "# simulate sampling distribution with bootstrapping\n",
    "for _ in range(10000): # ** fix 10000 **\n",
    "    diff = 0 \n",
    "    # npc - new page converted\n",
    "    npc = np.random.binomial(n_new, p_new)\n",
    "\n",
    "    # opc - old page converted\n",
    "    opc = np.random.binomial(n_old, p_old) \n",
    "    # print(\"npc - {}\".format(npc))\n",
    "\n",
    "    if _ < 0: # development\n",
    "        print(\"n_new - 145310 - {}\".format(n_new))\n",
    "        print(\"p_new 0.11959708724499628 - {}\".format(p_new))\n",
    "        print(\"n_old - 145274 - {}\".format(n_old))\n",
    "        print(\"p_old - 0.11959708724499628 - {}\".format(p_old)) \n",
    "        print(\"npc - {}\".format(npc))\n",
    "        print(\"opc - {}\\n\".format(opc))\n",
    "\n",
    "    diff = (npc / n_new) - (opc / n_old)\n",
    "    p_diffs.append(diff)\n",
    "\n",
    "print(\"len(p_diffs) - {}\".format(len(p_diffs)))\n",
    " "
   ]
  },
  {
   "cell_type": "markdown",
   "metadata": {},
   "source": [
    "i. Plot a histogram of the **p_diffs**.  Does this plot look like what you expected?  Use the matching problem in the classroom to assure you fully understand what was computed here."
   ]
  },
  {
   "cell_type": "code",
   "execution_count": 27,
   "metadata": {
    "scrolled": true
   },
   "outputs": [
    {
     "data": {
      "image/png": "[encoded data removed]",
      "text/plain": [
       "<matplotlib.figure.Figure at 0x11ee44080>"
      ]
     },
     "metadata": {},
     "output_type": "display_data"
    }
   ],
   "source": [
    "plt.hist(p_diffs)\n",
    "plt.axvline(x = p_new_minus_p_old, color='red');\n"
   ]
  },
  {
   "cell_type": "markdown",
   "metadata": {},
   "source": [
    "j. What proportion of the **p_diffs** are greater than the actual difference observed in **ab_data.csv**?"
   ]
  },
  {
   "cell_type": "code",
   "execution_count": 28,
   "metadata": {
    "scrolled": true
   },
   "outputs": [
    {
     "name": "stdout",
     "output_type": "stream",
     "text": [
      "proportion_control_converted - 0.12039917935897611\n",
      "proportion_treatment_converted - 0.11891957956489856\n",
      "actual_difference - -0.0014795997940775518\n",
      "proportion_pdiffs_greater - 0.8897\n",
      "\n"
     ]
    }
   ],
   "source": [
    " \n",
    "proportion_control_converted = df[df['group'] == 'control']['converted'].mean()\n",
    "print(\"proportion_control_converted - {}\".format(proportion_control_converted))\n",
    "\n",
    "proportion_treatment_converted = df[df['group'] == 'treatment']['converted'].mean()\n",
    "print(\"proportion_treatment_converted - {}\".format(proportion_treatment_converted))\n",
    "#proportion_p_diffs_greater_actual_difference = (actual_difference < p_diffs).mean()\n",
    "\n",
    "# actual_difference < p_diffs\n",
    "\n",
    "#print(\"proportion_p_diffs_greater_actual_difference - {}\".format(proportion_p_diffs_greater_actual_difference))\n",
    "\n",
    "actual_difference = proportion_treatment_converted - proportion_control_converted\n",
    "print(\"actual_difference - {}\".format(actual_difference))\n",
    "proportion_pdiffs_greater = sum(i > actual_difference for i in p_diffs) / len(p_diffs)\n",
    "print(\"proportion_pdiffs_greater - {}\\n\".format(proportion_pdiffs_greater))\n"
   ]
  },
  {
   "cell_type": "markdown",
   "metadata": {},
   "source": [
    "k. In words, explain what you just computed in part **j.**   What is this value called in scientific studies?  What does this value mean in terms of whether or not there is a difference between the new and old pages?"
   ]
  },
  {
   "cell_type": "markdown",
   "metadata": {},
   "source": [
    "**Put your answer here.**   \n",
    "Computed in part j - The proportion of p_diffs greater than the actual difference observed in ab_data.csv?   \n",
    "What is this value called in scientific studies - p-value   \n",
    "\n",
    "What does this value mean in terms of whether or not there is a difference between the new and old pages?   \n",
    "Given - Type 1 Error Rate, α, 5%, 0.05, p-value greater than α, therefore fail to reject the null hypothesis.  \n"
   ]
  },
  {
   "cell_type": "markdown",
   "metadata": {},
   "source": [
    "l. We could also use a built-in to achieve similar results.  Though using the built-in might be easier to code, the above portions are a walkthrough of the ideas that are critical to correctly thinking about statistical significance. Fill in the below to calculate the number of conversions for each page, as well as the number of individuals who received each page. Let `n_old` and `n_new` refer the the number of rows associated with the old page and new pages, respectively."
   ]
  },
  {
   "cell_type": "code",
   "execution_count": 29,
   "metadata": {
    "scrolled": true
   },
   "outputs": [
    {
     "name": "stdout",
     "output_type": "stream",
     "text": [
      "convert_old_count - 17489\n",
      "convert_new_count - 17264\n",
      "n_old - 145274\n",
      "n_new - 145310\n"
     ]
    },
    {
     "name": "stderr",
     "output_type": "stream",
     "text": [
      "/Users/menfi/anaconda3/lib/python3.6/site-packages/statsmodels/compat/pandas.py:56: FutureWarning: The pandas.core.datetools module is deprecated and will be removed in a future version. Please use the pandas.tseries module instead.\n",
      "  from pandas.core import datetools\n"
     ]
    }
   ],
   "source": [
    "\n",
    "convert_old_count = df2.query(\"group == 'control' and converted == 1\").shape[0]\n",
    "print(\"convert_old_count - {}\".format(convert_old_count))\n",
    " \n",
    "convert_new_count = df2.query(\"group == 'treatment' and converted == 1\").shape[0] \n",
    "print(\"convert_new_count - {}\".format(convert_new_count))\n",
    " \n",
    "print(\"n_old - {}\".format(n_old))\n",
    "print(\"n_new - {}\".format(n_new))\n",
    "\n",
    "import statsmodels.api as sm\n",
    "\n",
    "convert_old = 17489\n",
    "convert_new = 17264\n",
    "n_old = 145274\n",
    "n_new = 145310\n"
   ]
  },
  {
   "cell_type": "markdown",
   "metadata": {},
   "source": [
    "m. Now use `stats.proportions_ztest` to compute your test statistic and p-value.  [Here](http://knowledgetack.com/python/statsmodels/proportions_ztest/) is a helpful link on using the built in."
   ]
  },
  {
   "cell_type": "code",
   "execution_count": 30,
   "metadata": {},
   "outputs": [
    {
     "name": "stdout",
     "output_type": "stream",
     "text": [
      "p_value - 0.9050583127590245\n",
      "\n"
     ]
    }
   ],
   "source": [
    " \n",
    "z_score, p_value = sm.stats.proportions_ztest([convert_new, convert_old], [n_new, n_old], alternative = 'larger')\n",
    "print(\"p_value - {}\\n\".format(p_value)) \n"
   ]
  },
  {
   "cell_type": "markdown",
   "metadata": {},
   "source": [
    "n. What do the z-score and p-value you computed in the previous question mean for the conversion rates of the old and new pages?  Do they agree with the findings in parts **j.** and **k.**?"
   ]
  },
  {
   "cell_type": "markdown",
   "metadata": {},
   "source": [
    "**Put your answer here.**   \n",
    "Here again p-value is greater than α, fail to reject the null. This is in agreement with parts j., k. in both cases we fail to reject the null. "
   ]
  },
  {
   "cell_type": "markdown",
   "metadata": {},
   "source": [
    "<a id='regression'></a>\n",
    "### Part III - A regression approach\n",
    "\n",
    "`1.` In this final part, you will see that the result you acheived in the previous A/B test can also be acheived by performing regression.<br><br>\n",
    "\n",
    "a. Since each row is either a conversion or no conversion, what type of regression should you be performing in this case?"
   ]
  },
  {
   "cell_type": "markdown",
   "metadata": {},
   "source": [
    "**Put your answer here.**  \n",
    "logistic regression model"
   ]
  },
  {
   "cell_type": "markdown",
   "metadata": {},
   "source": [
    "b. The goal is to use **statsmodels** to fit the regression model you specified in part **a.** to see if there is a significant difference in conversion based on which page a customer receives.  However, you first need to create a colun for the intercept, and create a dummy variable column for which page each user received.  Add an **intercept** column, as well as an **ab_page** column, which is 1 when an individual receives the **treatment** and 0 if **control**."
   ]
  },
  {
   "cell_type": "code",
   "execution_count": 31,
   "metadata": {
    "scrolled": true
   },
   "outputs": [
    {
     "name": "stdout",
     "output_type": "stream",
     "text": [
      "\n",
      "df2.head(2)\n",
      "   user_id                   timestamp    group landing_page  converted  \\\n",
      "0   851104  2017-01-21 22:11:48.556739  control     old_page          0   \n",
      "1   804228  2017-01-12 08:01:45.159739  control     old_page          0   \n",
      "\n",
      "   intercept  control  ab_page  \n",
      "0          1        1        0  \n",
      "1          1        1        0  \n",
      "\n"
     ]
    }
   ],
   "source": [
    "\n",
    "# Add an intercept column - requirements compliance \n",
    "df2['intercept'] = 1\n",
    "\n",
    "# from lecture\n",
    "# df2[['control', 'treatment']] = pd.get_dummies(df2['group']) \n",
    "\n",
    "# Rather than just copy from lecture, find out what the code does.\n",
    "# What does this code do? Start with the dataframe - df2.\n",
    "# print('df2.head(2)')\n",
    "# print(df2.head(10))\n",
    "# print()\n",
    "#    user_id timestamp                  group   landing_page   converted   intercept  \n",
    "# 0  851104  2017-01-21 22:11:48.556739 control old_page       0           1\n",
    "# 1  804228  2017-01-12 08:01:45.159739 control old_page       0          1\n",
    "\n",
    "# pd.get_dummies(df2['group']) builds out two new columns, 'column', 'treatment' from df2 'group' column\n",
    "# if DataFrame row 'group' is control - 'control' column - 1, 'treatment' column 0\n",
    "# if DataFrame row 'group' is 'treatment' - 'control' column - 0, 'treatment' column 1\n",
    "\n",
    "# temp_df = pd.get_dummies(df2['group'])\n",
    "# print('temp_df.head(10)')\n",
    "# print(temp_df.head(10))\n",
    "# print()\n",
    "#          control    treatment\n",
    "# 0        1          0\n",
    "# 1        1          0\n",
    "\n",
    "# build out the new 'control' and 'ab_page' colums based on the 'group' column  \n",
    "# requirements compliance -  ... as well as an ab_page column, \n",
    "# which is 1 when an individual receives the treatment and 0 if control.\n",
    "df2[['control', 'ab_page']] = pd.get_dummies(df2['group']) \n",
    "\n",
    "print(\"\\ndf2.head(2)\")\n",
    "print(df2.head(2))\n",
    "print()\n",
    "\n",
    "#   user_id   timestamp                     group       landing_page      converted\n",
    "# 0   851104  2017-01-21 22:11:48.556739    control     old_page          0   \n",
    "# 1   804228  2017-01-12 08:01:45.159739    control     old_page          0\n",
    "\n",
    "#            intercept control  ab_page  \n",
    "# 0          1         1        0  \n",
    "# 1          1         1        0 \n"
   ]
  },
  {
   "cell_type": "markdown",
   "metadata": {},
   "source": [
    "c. Use **statsmodels** to import your regression model.  Instantiate the model, and fit the model using the two columns you created in part **b.** to predict whether or not an individual converts."
   ]
  },
  {
   "cell_type": "code",
   "execution_count": 32,
   "metadata": {},
   "outputs": [
    {
     "name": "stdout",
     "output_type": "stream",
     "text": [
      "Optimization terminated successfully.\n",
      "         Current function value: 0.366118\n",
      "         Iterations 6\n"
     ]
    }
   ],
   "source": [
    "import statsmodels.api as sm\n",
    "# logit = sm.Logit(df2['converted'], df2(['intercept', 'ab_page']))\n",
    "#df2['converted']\n",
    "# df2[['intercept', 'ab_page']]\n",
    "\n",
    "logit = sm.Logit(df2['converted'], df2[['intercept', 'ab_page']]) #'statsmodels.discrete.discrete_model.Logit'\n",
    "results = logit.fit()"
   ]
  },
  {
   "cell_type": "markdown",
   "metadata": {},
   "source": [
    "d. Provide the summary of your model below, and use it as necessary to answer the following questions."
   ]
  },
  {
   "cell_type": "code",
   "execution_count": 33,
   "metadata": {
    "scrolled": true
   },
   "outputs": [
    {
     "name": "stdout",
     "output_type": "stream",
     "text": [
      "results.summary()\n",
      "                           Logit Regression Results                           \n",
      "==============================================================================\n",
      "Dep. Variable:              converted   No. Observations:               290584\n",
      "Model:                          Logit   Df Residuals:                   290582\n",
      "Method:                           MLE   Df Model:                            1\n",
      "Date:                Fri, 15 Dec 2017   Pseudo R-squ.:               8.077e-06\n",
      "Time:                        09:46:12   Log-Likelihood:            -1.0639e+05\n",
      "converged:                       True   LL-Null:                   -1.0639e+05\n",
      "                                        LLR p-value:                    0.1899\n",
      "==============================================================================\n",
      "                 coef    std err          z      P>|z|      [0.025      0.975]\n",
      "------------------------------------------------------------------------------\n",
      "intercept     -1.9888      0.008   -246.669      0.000      -2.005      -1.973\n",
      "ab_page       -0.0150      0.011     -1.311      0.190      -0.037       0.007\n",
      "==============================================================================\n",
      "\n"
     ]
    }
   ],
   "source": [
    "print('results.summary()')\n",
    "print(results.summary())\n",
    "print()\n",
    "# note p value for ab_page is 0.190\n",
    "# fail to reject null at 5% Type 1 error rate α = 0.05"
   ]
  },
  {
   "cell_type": "markdown",
   "metadata": {},
   "source": [
    "e. What is the p-value associated with **ab_page**? Why does it differ from the value you found in the **Part II**?<br><br>  **Hint**: What are the null and alternative hypotheses associated with your regression model, and how do they compare to the null and alternative hypotheses in the **Part II**?"
   ]
  },
  {
   "cell_type": "markdown",
   "metadata": {},
   "source": [
    "p-value associated with ab_page - 0.190  \n",
    "Differs from Part II, because Part II - one sided test   \n",
    "Part III - regression - two sided test  \n",
    "What are the null and alternative hypotheses associated with your regression model?\n",
    "$$H_0: p_{new} = p_{old}$$\n",
    "$$H_1: p_{new} \\neq p_{old}$$   \n",
    "\n",
    "Null and alternative hypotheses in Part II?\n",
    "$$H_0: p_{new} \\leq p_{old}$$\n",
    "$$H_1: p_{new} > p_{old}$$\n",
    "\n"
   ]
  },
  {
   "cell_type": "markdown",
   "metadata": {},
   "source": [
    "f. Now, you are considering other things that might influence whether or not an individual converts.  Discuss why it is a good idea to consider other factors to add into your regression model.  Are there any disadvantages to adding additional terms into your regression model?"
   ]
  },
  {
   "cell_type": "markdown",
   "metadata": {},
   "source": [
    "**Put your answer here.**  \n",
    "Simpson's paradox.  The granualrity or the aggregate of the study \n",
    "\n",
    "The granularity or the aggregate of the study is an example.   \n",
    "One could study all Nanodegrees in the aggregate or \n",
    "individual Nanodegrees.   \n",
    "old page, new page conversion rates may differ, and / or lose or gain statistical significance.   \n",
    "   \n",
    "Another example is Data Analyst Nanodegree - Term 1 - Lesson 15: Multiple Linear Regression.  When bathrooms,\n",
    "bedrooms, and area were analyzed independently (simple linear regression) all 3 factors were shown to effect home price.  p-value indicated the \n",
    "effect was statistically significant.  When a multiple linear regression was run, with all 3 factors, only area was statistically significant.  \n",
    "These are two examples where considering other factors is required for valid statistically significant analysis.   \n",
    "     "
   ]
  },
  {
   "cell_type": "markdown",
   "metadata": {},
   "source": [
    "g. Now along with testing if the conversion rate changes for different pages, also add an effect based on which country a user lives. You will need to read in the **countries.csv** dataset and merge together your datasets on the approporiate rows.  [Here](https://pandas.pydata.org/pandas-docs/stable/generated/pandas.DataFrame.join.html) are the docs for joining tables. \n",
    "\n",
    "Does it appear that country had an impact on conversion?  Don't forget to create dummy variables for these country columns - **Hint: You will need two columns for the three dummy varaibles.** Provide the statistical output as well as a written response to answer this question."
   ]
  },
  {
   "cell_type": "code",
   "execution_count": 34,
   "metadata": {
    "scrolled": true
   },
   "outputs": [
    {
     "name": "stdout",
     "output_type": "stream",
     "text": [
      "countries_df.head()\n",
      "   user_id country\n",
      "0   834778      UK\n",
      "1   928468      US\n",
      "2   822059      UK\n",
      "3   711597      UK\n",
      "4   710616      UK\n",
      "\n",
      "df_new.head()\n",
      "        country                   timestamp      group landing_page  \\\n",
      "user_id                                                               \n",
      "834778       UK  2017-01-14 23:08:43.304998    control     old_page   \n",
      "928468       US  2017-01-23 14:44:16.387854  treatment     new_page   \n",
      "822059       UK  2017-01-16 14:04:14.719771  treatment     new_page   \n",
      "711597       UK  2017-01-22 03:14:24.763511    control     old_page   \n",
      "710616       UK  2017-01-16 13:14:44.000513  treatment     new_page   \n",
      "\n",
      "         converted  intercept  control  ab_page  \n",
      "user_id                                          \n",
      "834778           0          1        1        0  \n",
      "928468           0          1        0        1  \n",
      "822059           1          1        0        1  \n",
      "711597           0          1        1        0  \n",
      "710616           0          1        0        1  \n",
      "\n"
     ]
    }
   ],
   "source": [
    "# bring in the new countries.csv data\n",
    "DATADIR = '/Users/menfi/Documents/nanoDegree12September2017/analyze_A_B_test_results/AnalyzeABTestResults'  \n",
    "DATAFILE = 'countries.csv'\n",
    "\n",
    "countries_csv = os.path.join(DATADIR, DATAFILE)\n",
    "countries_df = pd.read_csv(countries_csv) # DataFrame\n",
    "\n",
    "print(\"countries_df.head()\")\n",
    "print(countries_df.head())\n",
    "print()\n",
    " \n",
    "# join the new countries_df - join on new index 'user_id' - column common to both joined DataFrames\n",
    "    \n",
    "df_new = countries_df.set_index('user_id').join(df2.set_index('user_id'), how = 'inner')\n",
    "\n",
    "print(\"df_new.head()\")\n",
    "print(df_new.head())\n",
    "print() \n"
   ]
  },
  {
   "cell_type": "markdown",
   "metadata": {},
   "source": [
    "h. Though you have now looked at the individual factors of country and page on conversion, we would now like to look at an interaction between page and country to see if there significant effects on conversion.  Create the necessary additional columns, and fit the new model.  \n",
    "\n",
    "Provide the summary results, and your conclusions based on the results."
   ]
  },
  {
   "cell_type": "code",
   "execution_count": 35,
   "metadata": {
    "scrolled": true
   },
   "outputs": [
    {
     "name": "stdout",
     "output_type": "stream",
     "text": [
      "df_new.head()\n",
      "        country                   timestamp      group landing_page  \\\n",
      "user_id                                                               \n",
      "834778       UK  2017-01-14 23:08:43.304998    control     old_page   \n",
      "928468       US  2017-01-23 14:44:16.387854  treatment     new_page   \n",
      "822059       UK  2017-01-16 14:04:14.719771  treatment     new_page   \n",
      "711597       UK  2017-01-22 03:14:24.763511    control     old_page   \n",
      "710616       UK  2017-01-16 13:14:44.000513  treatment     new_page   \n",
      "\n",
      "         converted  intercept  control  ab_page  CA  US  \n",
      "user_id                                                  \n",
      "834778           0          1        1        0   0   0  \n",
      "928468           0          1        0        1   0   1  \n",
      "822059           1          1        0        1   0   0  \n",
      "711597           0          1        1        0   0   0  \n",
      "710616           0          1        0        1   0   0  \n",
      "\n"
     ]
    }
   ],
   "source": [
    "df_new['country'].value_counts() # US 203619, UK 72466, CA 14499\n",
    "# 3 countries 2 dummies required \n",
    "\n",
    "# CA - Canada column added\n",
    "# CA - Canada column, 0 if row is UK, US \n",
    "\n",
    "# US - United States column added\n",
    "# US - United States column, 0 if row is UK, CA \n",
    "\n",
    "pd.get_dummies(df_new['country'])[['CA', 'US']]\n",
    "\n",
    "df_new[['CA', 'US']] = pd.get_dummies(df_new['country'])[['CA', 'US']]\n",
    "\n",
    "print(\"df_new.head()\")\n",
    "print(df_new.head())\n",
    "print()\n",
    "\n"
   ]
  },
  {
   "cell_type": "code",
   "execution_count": 36,
   "metadata": {},
   "outputs": [
    {
     "name": "stdout",
     "output_type": "stream",
     "text": [
      "Optimization terminated successfully.\n",
      "         Current function value: 0.366116\n",
      "         Iterations 6\n",
      "my_summary\n",
      "                           Logit Regression Results                           \n",
      "==============================================================================\n",
      "Dep. Variable:              converted   No. Observations:               290584\n",
      "Model:                          Logit   Df Residuals:                   290581\n",
      "Method:                           MLE   Df Model:                            2\n",
      "Date:                Fri, 15 Dec 2017   Pseudo R-squ.:               1.521e-05\n",
      "Time:                        09:46:13   Log-Likelihood:            -1.0639e+05\n",
      "converged:                       True   LL-Null:                   -1.0639e+05\n",
      "                                        LLR p-value:                    0.1984\n",
      "==============================================================================\n",
      "                 coef    std err          z      P>|z|      [0.025      0.975]\n",
      "------------------------------------------------------------------------------\n",
      "intercept     -1.9868      0.011   -174.174      0.000      -2.009      -1.964\n",
      "US            -0.0099      0.013     -0.746      0.456      -0.036       0.016\n",
      "CA            -0.0507      0.028     -1.786      0.074      -0.106       0.005\n",
      "==============================================================================\n",
      "\n"
     ]
    }
   ],
   "source": [
    "#sm.Logit(df_new['converted'], df_new[['intercept', 'US', 'CA']])\n",
    "\n",
    "mod = sm.Logit(df_new['converted'], df_new[['intercept', 'US', 'CA']]) # 'statsmodels.discrete.discrete_model.Logit'\n",
    "results = mod.fit()\n",
    "my_summary = results.summary()\n",
    "print('my_summary')\n",
    "print(my_summary)\n",
    "print()\n"
   ]
  },
  {
   "cell_type": "markdown",
   "metadata": {},
   "source": [
    "Does it appear that country had an impact on conversion? - Yes   \n",
    "Provide the statistical output as well as a written response to answer this question.   \n",
    "p-value US - 0.456, CA - 0.074\n",
    "Given - Type 1 Error Rate, α, 5%, 0.05   \n",
    "Both US, CA p-value greater than α, therefore fail to reject the null hypothesis, appears country had impact on conversion.      \n",
    "<p>\n",
    "   "
   ]
  },
  {
   "cell_type": "markdown",
   "metadata": {},
   "source": [
    "<a id='conclusions'></a>\n",
    "## Conclusions\n",
    "\n",
    "Congratulations on completing the project! \n",
    "\n",
    "### Gather Submission Materials\n",
    "\n",
    "Once you are satisfied with the status of your Notebook, you should save it in a format that will make it easy for others to read. You can use the __File -> Download as -> HTML (.html)__ menu to save your notebook as an .html file. If you are working locally and get an error about \"No module name\", then open a terminal and try installing the missing module using `pip install <module_name>` (don't include the \"<\" or \">\" or any words following a period in the module name).\n",
    "\n",
    "You will submit both your original Notebook and an HTML or PDF copy of the Notebook for review. There is no need for you to include any data files with your submission. If you made reference to other websites, books, and other resources to help you in solving tasks in the project, make sure that you document them. It is recommended that you either add a \"Resources\" section in a Markdown cell at the end of the Notebook report, or you can include a `readme.txt` file documenting your sources.\n",
    "\n",
    "### Submit the Project\n",
    "\n",
    "When you're ready, click on the \"Submit Project\" button to go to the project submission page. You can submit your files as a .zip archive or you can link to a GitHub repository containing your project files. If you go with GitHub, note that your submission will be a snapshot of the linked repository at time of submission. It is recommended that you keep each project in a separate repository to avoid any potential confusion: if a reviewer gets multiple folders representing multiple projects, there might be confusion regarding what project is to be evaluated.\n",
    "\n",
    "It can take us up to a week to grade the project, but in most cases it is much faster. You will get an email once your submission has been reviewed. If you are having any problems submitting your project or wish to check on the status of your submission, please email us at dataanalyst-project@udacity.com. In the meantime, you should feel free to continue on with your learning journey by continuing on to the next module in the program."
   ]
  },
  {
   "cell_type": "code",
   "execution_count": null,
   "metadata": {
    "collapsed": true
   },
   "outputs": [],
   "source": []
  }
 ],
 "metadata": {
  "kernelspec": {
   "display_name": "Python 3",
   "language": "python",
   "name": "python3"
  },
  "language_info": {
   "codemirror_mode": {
    "name": "ipython",
    "version": 3
   },
   "file_extension": ".py",
   "mimetype": "text/x-python",
   "name": "python",
   "nbconvert_exporter": "python",
   "pygments_lexer": "ipython3",
   "version": "3.6.1"
  }
 },
 "nbformat": 4,
 "nbformat_minor": 2
}
